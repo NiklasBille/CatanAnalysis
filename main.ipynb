{
 "cells": [
  {
   "cell_type": "markdown",
   "metadata": {
    "vscode": {
     "languageId": "plaintext"
    }
   },
   "source": [
    "# Imports & global constants\n"
   ]
  },
  {
   "cell_type": "code",
   "execution_count": 46,
   "metadata": {},
   "outputs": [],
   "source": [
    "import pandas as pd"
   ]
  },
  {
   "cell_type": "code",
   "execution_count": 47,
   "metadata": {},
   "outputs": [],
   "source": [
    "#Load data from CatanDB.xlsx\n",
    "df = pd.read_excel('CatanDB.xlsx')"
   ]
  },
  {
   "cell_type": "code",
   "execution_count": 48,
   "metadata": {},
   "outputs": [
    {
     "data": {
      "text/html": [
       "<div>\n",
       "<style scoped>\n",
       "    .dataframe tbody tr th:only-of-type {\n",
       "        vertical-align: middle;\n",
       "    }\n",
       "\n",
       "    .dataframe tbody tr th {\n",
       "        vertical-align: top;\n",
       "    }\n",
       "\n",
       "    .dataframe thead th {\n",
       "        text-align: right;\n",
       "    }\n",
       "</style>\n",
       "<table border=\"1\" class=\"dataframe\">\n",
       "  <thead>\n",
       "    <tr style=\"text-align: right;\">\n",
       "      <th></th>\n",
       "      <th>Map string</th>\n",
       "      <th>Port string</th>\n",
       "      <th>PlayerOnePlacement</th>\n",
       "      <th>PlayerTwoPlacement</th>\n",
       "      <th>PlayerThreePlacement</th>\n",
       "      <th>PlayerFourPlacement</th>\n",
       "      <th>PlayerOnePoints</th>\n",
       "      <th>PlayerTwoPoints</th>\n",
       "      <th>PlayerThreePoints</th>\n",
       "      <th>PlayerFourPoints</th>\n",
       "      <th>WinningPlayer</th>\n",
       "      <th>Elo</th>\n",
       "    </tr>\n",
       "  </thead>\n",
       "  <tbody>\n",
       "    <tr>\n",
       "      <th>0</th>\n",
       "      <td>wh9,or10,sh8,br12,sh05,de00,or03,sh11,wh06,wo1...</td>\n",
       "      <td>sh,xx, br,wh,wo,x,or,xx,xx</td>\n",
       "      <td>45-49, 5-9</td>\n",
       "      <td>8-4,17-23</td>\n",
       "      <td>39-43,35-30</td>\n",
       "      <td>28-22,25-19</td>\n",
       "      <td>7</td>\n",
       "      <td>10</td>\n",
       "      <td>7</td>\n",
       "      <td>9</td>\n",
       "      <td>2</td>\n",
       "      <td>1335</td>\n",
       "    </tr>\n",
       "    <tr>\n",
       "      <th>1</th>\n",
       "      <td>wh09, br12,or11,or10,or05,wh06,de00,sh08,wo04,...</td>\n",
       "      <td>tr,xx,wo,xx,or,sh,xx,wh,br</td>\n",
       "      <td>12-7, 33-27</td>\n",
       "      <td>41-46, 13-8</td>\n",
       "      <td>22-28, 39-44</td>\n",
       "      <td>23-18, 40-45</td>\n",
       "      <td>6</td>\n",
       "      <td>6</td>\n",
       "      <td>4</td>\n",
       "      <td>10</td>\n",
       "      <td>4</td>\n",
       "      <td>1332</td>\n",
       "    </tr>\n",
       "    <tr>\n",
       "      <th>2</th>\n",
       "      <td>br08,sh03,wh06,wh10,wh04,de00,or02,or09,sh05,s...</td>\n",
       "      <td>xx,wh,wo,xx,br,or,sh,xx,xx</td>\n",
       "      <td>8-13, 30-36</td>\n",
       "      <td>31-37, 45-41</td>\n",
       "      <td>22-28, 44-48</td>\n",
       "      <td>29-34, 7-3</td>\n",
       "      <td>8</td>\n",
       "      <td>5</td>\n",
       "      <td>10</td>\n",
       "      <td>7</td>\n",
       "      <td>3</td>\n",
       "      <td>1330</td>\n",
       "    </tr>\n",
       "    <tr>\n",
       "      <th>3</th>\n",
       "      <td>wh11,br12,or09,de00,sh06,sh05,wo10,br04,wo03,w...</td>\n",
       "      <td>or,wh,sh,xx,wo,xx,xx,xx,br</td>\n",
       "      <td>41-45, 8-4</td>\n",
       "      <td>14-19, 18-13</td>\n",
       "      <td>39-43, 5-2,</td>\n",
       "      <td>31-37, 28-33</td>\n",
       "      <td>7</td>\n",
       "      <td>4</td>\n",
       "      <td>6</td>\n",
       "      <td>10</td>\n",
       "      <td>4</td>\n",
       "      <td>1326</td>\n",
       "    </tr>\n",
       "    <tr>\n",
       "      <th>4</th>\n",
       "      <td>wo09,wh12,br11,br10,br05,sh06,or04,or08,sh04,w...</td>\n",
       "      <td>or,wh,xx,xx,br,sh,xx,xx,wo</td>\n",
       "      <td>12-7, 43-47</td>\n",
       "      <td>22-28, 44-48</td>\n",
       "      <td>18-23, 31-36</td>\n",
       "      <td>34-39,14-9</td>\n",
       "      <td>7</td>\n",
       "      <td>6</td>\n",
       "      <td>9</td>\n",
       "      <td>19</td>\n",
       "      <td>4</td>\n",
       "      <td>1326</td>\n",
       "    </tr>\n",
       "  </tbody>\n",
       "</table>\n",
       "</div>"
      ],
      "text/plain": [
       "                                          Map string  \\\n",
       "0  wh9,or10,sh8,br12,sh05,de00,or03,sh11,wh06,wo1...   \n",
       "1  wh09, br12,or11,or10,or05,wh06,de00,sh08,wo04,...   \n",
       "2  br08,sh03,wh06,wh10,wh04,de00,or02,or09,sh05,s...   \n",
       "3  wh11,br12,or09,de00,sh06,sh05,wo10,br04,wo03,w...   \n",
       "4  wo09,wh12,br11,br10,br05,sh06,or04,or08,sh04,w...   \n",
       "\n",
       "                  Port string PlayerOnePlacement PlayerTwoPlacement  \\\n",
       "0  sh,xx, br,wh,wo,x,or,xx,xx         45-49, 5-9          8-4,17-23   \n",
       "1  tr,xx,wo,xx,or,sh,xx,wh,br        12-7, 33-27        41-46, 13-8   \n",
       "2  xx,wh,wo,xx,br,or,sh,xx,xx        8-13, 30-36       31-37, 45-41   \n",
       "3  or,wh,sh,xx,wo,xx,xx,xx,br         41-45, 8-4       14-19, 18-13   \n",
       "4  or,wh,xx,xx,br,sh,xx,xx,wo        12-7, 43-47       22-28, 44-48   \n",
       "\n",
       "  PlayerThreePlacement PlayerFourPlacement  PlayerOnePoints  PlayerTwoPoints  \\\n",
       "0          39-43,35-30         28-22,25-19                7               10   \n",
       "1         22-28, 39-44        23-18, 40-45                6                6   \n",
       "2         22-28, 44-48          29-34, 7-3                8                5   \n",
       "3         39-43, 5-2,         31-37, 28-33                7                4   \n",
       "4         18-23, 31-36          34-39,14-9                7                6   \n",
       "\n",
       "   PlayerThreePoints  PlayerFourPoints  WinningPlayer   Elo  \n",
       "0                  7                 9              2  1335  \n",
       "1                  4                10              4  1332  \n",
       "2                 10                 7              3  1330  \n",
       "3                  6                10              4  1326  \n",
       "4                  9                19              4  1326  "
      ]
     },
     "execution_count": 48,
     "metadata": {},
     "output_type": "execute_result"
    }
   ],
   "source": [
    "df.head()"
   ]
  },
  {
   "cell_type": "markdown",
   "metadata": {},
   "source": [
    "# Data Cleaning\n",
    "\n"
   ]
  },
  {
   "cell_type": "code",
   "execution_count": 56,
   "metadata": {},
   "outputs": [],
   "source": [
    "df_clean = df.copy()    \n",
    "\n",
    "def clean_map_string(map_string):\n",
    "    map_string = map_string.replace(' ', '')\n",
    "    map_string = map_string.replace(',', '')\n",
    "\n",
    "    # Ensure that formatting is correct, eg. if user enters 4 instead of 04 the resulting string is the same\n",
    "    for i in range(3, len(map_string), 4):\n",
    "        if not map_string[i].isdigit():\n",
    "            map_string = map_string[:i-1] + '0' + map_string[i-1:]        \n",
    "    return map_string\n",
    "df_clean['Map string'] = df_clean['Map string'].apply(clean_map_string)"
   ]
  },
  {
   "cell_type": "markdown",
   "metadata": {},
   "source": [
    "# Feature Engineering"
   ]
  },
  {
   "cell_type": "code",
   "execution_count": 64,
   "metadata": {},
   "outputs": [
    {
     "data": {
      "text/plain": [
       "[14, 15, 18]"
      ]
     },
     "execution_count": 64,
     "metadata": {},
     "output_type": "execute_result"
    }
   ],
   "source": [
    "settlment_to_tile_map = [\n",
    "    [0],\n",
    "    [1],\n",
    "    [2],\n",
    "    [0],\n",
    "    [0,1],\n",
    "    [1,2],\n",
    "    [2],\n",
    "    [0,3],\n",
    "    [0,1,4],\n",
    "    [1,2,5],\n",
    "    [2,6],\n",
    "    [3],\n",
    "    [3,4],\n",
    "    [1,4,5],\n",
    "    [2,5,6],\n",
    "    [6],\n",
    "    [3,7],\n",
    "    [3,4,8],\n",
    "    [4,5,9],\n",
    "    [5,6,10],\n",
    "    [6,11],\n",
    "    [7],\n",
    "    [3,7,8],\n",
    "    [4,8,9],\n",
    "    [5,9,10],\n",
    "    [6,10,11],\n",
    "    [11],\n",
    "    [7],\n",
    "    [7,8,12],\n",
    "    [8,9,13],\n",
    "    [9,10,14], \n",
    "    [10,11,15],\n",
    "    [11],\n",
    "    [7,12],\n",
    "    [8,12,13],\n",
    "    [9,13,14],\n",
    "    [10,14,15],\n",
    "    [11,15],\n",
    "    [12],\n",
    "    [12,13,16],\n",
    "    [13,14,17],\n",
    "    [14,15,18],\n",
    "    [15],\n",
    "    [12,16],\n",
    "    [13,16,17],\n",
    "    [14,17,18],\n",
    "    [15,18],\n",
    "    [16],\n",
    "    [16, 17],\n",
    "    [17, 18],\n",
    "    [18],\n",
    "    [16],\n",
    "    [17],\n",
    "    [18]]\n",
    "settlment_to_tile_map[41]"
   ]
  },
  {
   "cell_type": "code",
   "execution_count": 60,
   "metadata": {},
   "outputs": [
    {
     "name": "stdout",
     "output_type": "stream",
     "text": [
      "['wh09', 'or10', 'sh08', 'br12', 'sh05', 'de00', 'or03', 'sh11', 'wh06', 'wo11', 'or04', 'wo06', 'wh04', 'wo03', 'wo09', 'sh02', 'br08', 'sh10', 'br05']\n",
      "{0: ('wheat', 9), 1: ('ore', 10), 2: ('sheep', 8), 3: ('brick', 12), 4: ('sheep', 5), 5: ('desert', 0), 6: ('ore', 3), 7: ('sheep', 11), 8: ('wheat', 6), 9: ('wood', 11), 10: ('ore', 4), 11: ('wood', 6), 12: ('wheat', 4), 13: ('wood', 3), 14: ('wood', 9), 15: ('sheep', 2), 16: ('brick', 8), 17: ('sheep', 10), 18: ('brick', 5)}\n"
     ]
    }
   ],
   "source": [
    "def tile_sting_to_tile(tile_string):\n",
    "    match tile_string:\n",
    "        case 'wo':\n",
    "            return 'wood'\n",
    "        case 'br':\n",
    "            return 'brick'\n",
    "        case 'sh':\n",
    "            return 'sheep'\n",
    "        case 'wh':\n",
    "            return 'wheat'\n",
    "        case 'or':\n",
    "            return 'ore'\n",
    "        case 'de':\n",
    "            return 'desert'\n",
    "\n",
    "def create_map_dict(map_string):\n",
    "    # Split every 4 characters\n",
    "    map_list = [map_string[i:i+4] for i in range(0, len(map_string), 4)]\n",
    "    print(map_list)\n",
    "    map_dict = {}\n",
    "    for i in range(len(map_list)):\n",
    "        map_dict[i] = tile_sting_to_tile(map_list[i][:2]), int(map_list[i][2:])\n",
    "    print(map_dict)\n",
    "\n",
    "\n",
    "        \n",
    "        \n",
    "\n",
    "map_string = df_clean.iloc[0]['Map string']\n",
    "map_dict = create_map_dict(map_string)\n",
    "\n"
   ]
  }
 ],
 "metadata": {
  "kernelspec": {
   "display_name": "catan",
   "language": "python",
   "name": "python3"
  },
  "language_info": {
   "codemirror_mode": {
    "name": "ipython",
    "version": 3
   },
   "file_extension": ".py",
   "mimetype": "text/x-python",
   "name": "python",
   "nbconvert_exporter": "python",
   "pygments_lexer": "ipython3",
   "version": "undefined.undefined.undefined"
  }
 },
 "nbformat": 4,
 "nbformat_minor": 2
}
